{
 "cells": [
  {
   "cell_type": "markdown",
   "id": "powerful-monroe",
   "metadata": {},
   "source": [
    "# Test Jupyter notebook"
   ]
  },
  {
   "cell_type": "code",
   "execution_count": null,
   "id": "grateful-howard",
   "metadata": {},
   "outputs": [],
   "source": [
    "a = 10\n",
    "b = 20\n",
    "\n",
    "def add(x, y):\n",
    "    return x + y"
   ]
  },
  {
   "cell_type": "code",
   "execution_count": null,
   "id": "attended-athletics",
   "metadata": {},
   "outputs": [
    {
     "data": {
      "text/plain": [
       "30"
      ]
     },
     "execution_count": 3,
     "metadata": {},
     "output_type": "execute_result"
    }
   ],
   "source": [
    "add(a, b)"
   ]
  },
  {
   "cell_type": "code",
   "execution_count": null,
   "id": "developed-cause",
   "metadata": {},
   "outputs": [],
   "source": [
    "import sklearn"
   ]
  },
  {
   "cell_type": "code",
   "execution_count": null,
   "id": "painful-sister",
   "metadata": {},
   "outputs": [
    {
     "name": "stdout",
     "output_type": "stream",
     "text": [
      "Requirement already satisfied: pandas in /Users/nitesh/virtualenvs/ds-env/lib/python3.9/site-packages (1.3.5)\n",
      "Requirement already satisfied: python-dateutil>=2.7.3 in /Users/nitesh/virtualenvs/ds-env/lib/python3.9/site-packages (from pandas) (2.8.1)\n",
      "Requirement already satisfied: pytz>=2017.3 in /Users/nitesh/virtualenvs/ds-env/lib/python3.9/site-packages (from pandas) (2021.1)\n",
      "Requirement already satisfied: numpy>=1.17.3 in /Users/nitesh/virtualenvs/ds-env/lib/python3.9/site-packages (from pandas) (1.21.4)\n",
      "Requirement already satisfied: six>=1.5 in /Users/nitesh/virtualenvs/ds-env/lib/python3.9/site-packages (from python-dateutil>=2.7.3->pandas) (1.15.0)\n",
      "\u001b[33mWARNING: You are using pip version 21.3.1; however, version 22.0.4 is available.\n",
      "You should consider upgrading via the '/Users/nitesh/virtualenvs/ds-env/bin/python3 -m pip install --upgrade pip' command.\u001b[0m\n"
     ]
    }
   ],
   "source": [
    "! pip3 install pandas"
   ]
  },
  {
   "cell_type": "markdown",
   "id": "continental-assurance",
   "metadata": {},
   "source": [
    "## Testing new cell"
   ]
  },
  {
   "cell_type": "markdown",
   "id": "edf9932b",
   "metadata": {},
   "source": [
    "# Now I will test the R kernel"
   ]
  },
  {
   "cell_type": "code",
   "execution_count": 1,
   "id": "280dafa3",
   "metadata": {},
   "outputs": [],
   "source": [
    "a <- 10"
   ]
  },
  {
   "cell_type": "code",
   "execution_count": 2,
   "id": "1f1202aa",
   "metadata": {},
   "outputs": [],
   "source": [
    "b <- 10\n",
    "\n",
    "foo <- function(a, b) {a + b}"
   ]
  },
  {
   "cell_type": "code",
   "execution_count": 3,
   "id": "4d66bdbd",
   "metadata": {},
   "outputs": [
    {
     "data": {
      "text/html": [
       "50"
      ],
      "text/latex": [
       "50"
      ],
      "text/markdown": [
       "50"
      ],
      "text/plain": [
       "[1] 50"
      ]
     },
     "metadata": {},
     "output_type": "display_data"
    }
   ],
   "source": [
    "foo(20, 30)"
   ]
  },
  {
   "cell_type": "code",
   "execution_count": 4,
   "id": "84d3a643",
   "metadata": {},
   "outputs": [
    {
     "name": "stderr",
     "output_type": "stream",
     "text": [
      "'getOption(\"repos\")' replaces Bioconductor standard repositories, see\n",
      "'?repositories' for details\n",
      "\n",
      "replacement repositories:\n",
      "    CRAN: https://packagemanager.rstudio.com/cran/__linux__/focal/latest\n",
      "\n",
      "\n"
     ]
    },
    {
     "data": {
      "text/html": [
       "<style>\n",
       ".dl-inline {width: auto; margin:0; padding: 0}\n",
       ".dl-inline>dt, .dl-inline>dd {float: none; width: auto; display: inline-block}\n",
       ".dl-inline>dt::after {content: \":\\0020\"; padding-right: .5ex}\n",
       ".dl-inline>dt:not(:first-of-type) {padding-left: .5ex}\n",
       "</style><dl class=dl-inline><dt>BiocBinaries</dt><dd>'https://bioconductor.org/packages/3.14/container-binaries'</dd><dt>BioCsoft</dt><dd>'https://bioconductor.org/packages/3.14/bioc'</dd><dt>BioCann</dt><dd>'https://bioconductor.org/packages/3.14/data/annotation'</dd><dt>BioCexp</dt><dd>'https://bioconductor.org/packages/3.14/data/experiment'</dd><dt>BioCworkflows</dt><dd>'https://bioconductor.org/packages/3.14/workflows'</dd><dt>BioCbooks</dt><dd>'https://bioconductor.org/packages/3.14/books'</dd><dt>CRAN</dt><dd>'https://packagemanager.rstudio.com/cran/__linux__/focal/latest'</dd></dl>\n"
      ],
      "text/latex": [
       "\\begin{description*}\n",
       "\\item[BiocBinaries] 'https://bioconductor.org/packages/3.14/container-binaries'\n",
       "\\item[BioCsoft] 'https://bioconductor.org/packages/3.14/bioc'\n",
       "\\item[BioCann] 'https://bioconductor.org/packages/3.14/data/annotation'\n",
       "\\item[BioCexp] 'https://bioconductor.org/packages/3.14/data/experiment'\n",
       "\\item[BioCworkflows] 'https://bioconductor.org/packages/3.14/workflows'\n",
       "\\item[BioCbooks] 'https://bioconductor.org/packages/3.14/books'\n",
       "\\item[CRAN] 'https://packagemanager.rstudio.com/cran/\\_\\_linux\\_\\_/focal/latest'\n",
       "\\end{description*}\n"
      ],
      "text/markdown": [
       "BiocBinaries\n",
       ":   'https://bioconductor.org/packages/3.14/container-binaries'BioCsoft\n",
       ":   'https://bioconductor.org/packages/3.14/bioc'BioCann\n",
       ":   'https://bioconductor.org/packages/3.14/data/annotation'BioCexp\n",
       ":   'https://bioconductor.org/packages/3.14/data/experiment'BioCworkflows\n",
       ":   'https://bioconductor.org/packages/3.14/workflows'BioCbooks\n",
       ":   'https://bioconductor.org/packages/3.14/books'CRAN\n",
       ":   'https://packagemanager.rstudio.com/cran/__linux__/focal/latest'\n",
       "\n"
      ],
      "text/plain": [
       "                                                    BiocBinaries \n",
       "     \"https://bioconductor.org/packages/3.14/container-binaries\" \n",
       "                                                        BioCsoft \n",
       "                   \"https://bioconductor.org/packages/3.14/bioc\" \n",
       "                                                         BioCann \n",
       "        \"https://bioconductor.org/packages/3.14/data/annotation\" \n",
       "                                                         BioCexp \n",
       "        \"https://bioconductor.org/packages/3.14/data/experiment\" \n",
       "                                                   BioCworkflows \n",
       "              \"https://bioconductor.org/packages/3.14/workflows\" \n",
       "                                                       BioCbooks \n",
       "                  \"https://bioconductor.org/packages/3.14/books\" \n",
       "                                                            CRAN \n",
       "\"https://packagemanager.rstudio.com/cran/__linux__/focal/latest\" "
      ]
     },
     "metadata": {},
     "output_type": "display_data"
    }
   ],
   "source": [
    "AnVIL::repositories()"
   ]
  },
  {
   "cell_type": "code",
   "execution_count": null,
   "id": "f6dbbd22",
   "metadata": {},
   "outputs": [],
   "source": []
  }
 ],
 "metadata": {
  "kernelspec": {
   "display_name": "R",
   "language": "R",
   "name": "ir"
  },
  "language_info": {
   "codemirror_mode": "r",
   "file_extension": ".r",
   "mimetype": "text/x-r-source",
   "name": "R",
   "pygments_lexer": "r",
   "version": "4.1.3"
  }
 },
 "nbformat": 4,
 "nbformat_minor": 5
}
